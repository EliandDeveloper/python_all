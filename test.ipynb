{
 "cells": [
  {
   "cell_type": "markdown",
   "metadata": {},
   "source": [
    "## Evalue la expresión en los ejercicios 1 - 6 evalue la expresión"
   ]
  },
  {
   "cell_type": "code",
   "execution_count": 2,
   "metadata": {},
   "outputs": [
    {
     "name": "stdout",
     "output_type": "stream",
     "text": [
      "[[-8 -7]\n",
      " [15 -1]]\n"
     ]
    }
   ],
   "source": [
    "import numpy as np\n",
    "\n",
    "arreglo_1 = np.array([[-5, 0], \n",
    "                      [3, -6]])\n",
    "\n",
    "arreglo_2 = np.array([[7, 1],\n",
    "                      [-2, -1]])\n",
    "\n",
    "arreglo_3 = np.array([[-10, -8],\n",
    "                      [14, 6]])\n",
    "\n",
    "arreglo_result = arreglo_1 + arreglo_2 + arreglo_3\n",
    "\n",
    "print(arreglo_result)\n",
    "\n"
   ]
  },
  {
   "cell_type": "code",
   "execution_count": 3,
   "metadata": {},
   "outputs": [
    {
     "name": "stdout",
     "output_type": "stream",
     "text": [
      "[[-5  6]\n",
      " [-2 -2]]\n"
     ]
    }
   ],
   "source": [
    "\n",
    "import numpy as np\n",
    "\n",
    "\n",
    "arreglo_1 = np.array([[6, 8], \n",
    "                      [-1, 0]])\n",
    "\n",
    "arreglo_2 = np.array([[0, 5],\n",
    "                      [-3, -1]])\n",
    "\n",
    "arreglo_3 = np.array([[-11, -7],\n",
    "                      [2, -1]])\n",
    "\n",
    "arreglo_result = arreglo_1 + arreglo_2 + arreglo_3\n",
    "\n",
    "print(arreglo_result)\n",
    "\n",
    "\n",
    "\n"
   ]
  },
  {
   "cell_type": "code",
   "execution_count": 5,
   "metadata": {},
   "outputs": [
    {
     "name": "stdout",
     "output_type": "stream",
     "text": [
      "[[-24  -4  12]\n",
      " [-12  32  12]]\n"
     ]
    }
   ],
   "source": [
    "\n",
    "\n",
    "import numpy as np\n",
    "\n",
    "\n",
    "arreglo_1 = np.array([[-4, 0, 1], \n",
    "                      [0, 2, 3]])\n",
    "\n",
    "arreglo_2 = np.array([[2, 1, -2],\n",
    "                      [3, -6, 0]])\n",
    "\n",
    "arreglo_result = (arreglo_1 - arreglo_2) * 4\n",
    "\n",
    "print(arreglo_result)\n",
    "\n",
    "\n"
   ]
  },
  {
   "cell_type": "code",
   "execution_count": 7,
   "metadata": {},
   "outputs": [
    {
     "name": "stdout",
     "output_type": "stream",
     "text": [
      "[ 9.5  2.  -7.   4.5]\n"
     ]
    }
   ],
   "source": [
    "\n",
    "import numpy as np\n",
    "\n",
    "\n",
    "arreglo_1 = np.array([5, -2, 4, 0])\n",
    "\n",
    "arreglo_2 = np.array([14, 6, -18, 9])\n",
    "\n",
    "arreglo_result = (arreglo_1 + arreglo_2) * 0.5\n",
    "\n",
    "print(arreglo_result)\n"
   ]
  },
  {
   "cell_type": "code",
   "execution_count": 8,
   "metadata": {},
   "outputs": [
    {
     "name": "stdout",
     "output_type": "stream",
     "text": [
      "[[ 10   8]\n",
      " [-59   9]]\n"
     ]
    }
   ],
   "source": [
    "\n",
    "import numpy as np\n",
    "\n",
    "arreglo_1 = np.array([[0, -3], \n",
    "                      [7, 2]])\n",
    "\n",
    "arreglo_2 = np.array([[-6, 3],\n",
    "                      [8, 1]])\n",
    "\n",
    "arreglo_3 = np.array([[4, -4],\n",
    "                      [7, -9]])\n",
    "\n",
    "arreglo_result = -3 * (arreglo_1 + arreglo_2) - 2 * arreglo_3\n",
    "\n",
    "print(arreglo_result)"
   ]
  },
  {
   "cell_type": "code",
   "execution_count": 10,
   "metadata": {},
   "outputs": [
    {
     "name": "stdout",
     "output_type": "stream",
     "text": [
      "[[ -3.66666667 -10.33333333]\n",
      " [  1.           1.5       ]\n",
      " [ -8.          -1.        ]]\n"
     ]
    }
   ],
   "source": [
    "\n",
    "import numpy as np\n",
    "\n",
    "arreglo_1 = np.array([[4, 11], \n",
    "                      [-2, -1],\n",
    "                      [9, 3]])\n",
    "\n",
    "arreglo_2 = np.array([[-5, -1],\n",
    "                      [3, 4],\n",
    "                      [0, 13]])\n",
    "\n",
    "arreglo_3 = np.array([[7, 5],\n",
    "                      [-9, -1],\n",
    "                      [6, -1]])\n",
    "\n",
    "arreglo_result = -1 * (arreglo_1) + (arreglo_2 + arreglo_3)/6\n",
    "\n",
    "print(arreglo_result)\n"
   ]
  },
  {
   "cell_type": "markdown",
   "metadata": {},
   "source": [
    "## Operaciones con matrices en los ejercicio 7 hasta el 12, realice las operaciones indicadas cuando a = 3, b = -4"
   ]
  },
  {
   "cell_type": "code",
   "execution_count": 11,
   "metadata": {},
   "outputs": [
    {
     "name": "stdout",
     "output_type": "stream",
     "text": [
      "[[ -3.66666667 -10.33333333]\n",
      " [  1.           1.5       ]\n",
      " [ -8.          -1.        ]]\n"
     ]
    }
   ],
   "source": [
    "\n",
    "\n",
    "import numpy as np\n",
    "\n",
    "\n",
    "arreglo_1 = np.array([[4, 11], \n",
    "                      [-2, -1],\n",
    "                      [9, 3]])\n",
    "\n",
    "arreglo_2 = np.array([[-5, -1],\n",
    "                      [3, 4],\n",
    "                      [0, 13]])\n",
    "\n",
    "arreglo_3 = np.array([[7, 5],\n",
    "                      [-9, -1],\n",
    "                      [6, -1]])\n",
    "\n",
    "arreglo_result = -1 * (arreglo_1) + (arreglo_2 + arreglo_3)/6\n",
    "\n",
    "print(arreglo_result)\n"
   ]
  },
  {
   "cell_type": "code",
   "execution_count": 19,
   "metadata": {},
   "outputs": [
    {
     "name": "stdout",
     "output_type": "stream",
     "text": [
      "Ejercicio 7\n",
      "\n",
      "[[ 3 10]\n",
      " [ 5 20]]\n",
      "Ejercicio 8\n",
      "\n",
      "[[1 3]\n",
      " [2 6]]\n",
      "Ejercicio 9\n",
      "\n",
      "[[  0  12]\n",
      " [-12  24]]\n",
      "Ejercicio 10\n",
      "\n",
      "[[ 0  7]\n",
      " [-7 14]]\n",
      "Ejercicio 11\n",
      "\n",
      "[[-1 -1]\n",
      " [-4 -2]]\n",
      "Ejercicio 12\n",
      "\n",
      "[[0 0]\n",
      " [0 0]]\n"
     ]
    }
   ],
   "source": [
    "\n",
    "import numpy as np\n",
    "\n",
    "a = 3\n",
    "b = 4\n",
    "\n",
    "A = np.array([[1, 2],\n",
    "              [3, 4]])\n",
    "\n",
    "B = np.array([[0, 1],\n",
    "              [-1, 2]])\n",
    "\n",
    "O = np.array([[0, 0],\n",
    "              [0, 0]])\n",
    "\n",
    "# 7\n",
    "\n",
    "arreglo_result = a * A + b * B\n",
    "\n",
    "print(\"Ejercicio 7\\n\")\n",
    "print(arreglo_result)\n",
    "\n",
    "# 8\n",
    "\n",
    "print(\"Ejercicio 8\\n\")\n",
    "\n",
    "arreglo_result = A + B\n",
    "\n",
    "print(arreglo_result)\n",
    "\n",
    "# 9\n",
    "\n",
    "print(\"Ejercicio 9\\n\")\n",
    "\n",
    "arreglo_result = a * b * (B)\n",
    "\n",
    "print(arreglo_result)\n",
    "\n",
    "# 10\n",
    "\n",
    "print(\"Ejercicio 10\\n\")\n",
    "\n",
    "arreglo_result = (a + b) * B\n",
    "\n",
    "print(arreglo_result)\n",
    "\n",
    "# 11\n",
    "\n",
    "print(\"Ejercicio 11\\n\")\n",
    "\n",
    "arreglo_result = (a - b) * (A - B)\n",
    "\n",
    "print(arreglo_result)\n",
    "\n",
    "# 12\n",
    "\n",
    "print(\"Ejercicio 12\\n\")\n",
    "\n",
    "arreglo_result = (a * b) * O\n",
    "\n",
    "print(arreglo_result)\n",
    "\n"
   ]
  },
  {
   "cell_type": "markdown",
   "metadata": {},
   "source": [
    "## Ejercicio del punto 13"
   ]
  },
  {
   "cell_type": "code",
   "execution_count": 25,
   "metadata": {},
   "outputs": [
    {
     "name": "stdout",
     "output_type": "stream",
     "text": [
      "El resultado es:\n",
      " [[ 3.          0.66666667]\n",
      " [-1.33333333 -3.        ]\n",
      " [ 3.33333333  0.        ]]\n",
      "\n",
      "El resultado es:\n",
      " [[-4.33333333 -3.33333333]\n",
      " [ 4.          1.66666667]\n",
      " [-8.66666667 -5.33333333]]\n",
      "\n",
      "El resultado es:\n",
      " [[-14  -4]\n",
      " [  7  13]\n",
      " [-17  -2]]\n",
      "\n",
      "El resultado es:\n",
      " [[-2.16666667  1.        ]\n",
      " [-0.33333333  3.83333333]\n",
      " [ 0.          3.33333333]]\n",
      "\n"
     ]
    }
   ],
   "source": [
    "\n",
    "import numpy as np\n",
    "\n",
    "A = np.array([[-4, 0],\n",
    "              [1, 5],\n",
    "              [-3, 2]])\n",
    "\n",
    "B = np.array([[1, 2],\n",
    "              [-2, 1],\n",
    "              [4, 4]])\n",
    "\n",
    "\n",
    "# (a) 3X + 2A = B\n",
    "\n",
    "X = (1/3) * (B - 2 * A)\n",
    "\n",
    "print(f\"El resultado es:\\n {X}\\n\")\n",
    "\n",
    "# (b) 2A - 5B = 3X\n",
    "\n",
    "X = (2 * A - 5 * B) / 3\n",
    "\n",
    "print(f\"El resultado es:\\n {X}\\n\")\n",
    "\n",
    "# (c) X - 3A + 2B = 0\n",
    "\n",
    "X = 3 * A - 2 * B\n",
    "\n",
    "print(f\"El resultado es:\\n {X}\\n\")\n",
    "\n",
    "# (d) 6X - 4A - 3B = 0\n",
    "\n",
    "X = (4 * A + 3 * B) / 6\n",
    "\n",
    "print(f\"El resultado es:\\n {X}\\n\")\n",
    "\n"
   ]
  },
  {
   "cell_type": "markdown",
   "metadata": {},
   "source": [
    "## Ejercicio del punto 14"
   ]
  },
  {
   "cell_type": "code",
   "execution_count": 61,
   "metadata": {},
   "outputs": [
    {
     "name": "stdout",
     "output_type": "stream",
     "text": [
      "El resultado es:\n",
      " [[ -6  -9]\n",
      " [ -1   0]\n",
      " [ 17 -10]]\n",
      "\n",
      "El resultado es:\n",
      " [[-2.  -2.5]\n",
      " [ 0.   0. ]\n",
      " [ 5.  -3.5]]\n",
      "\n",
      "El resultado es:\n",
      " [[ 3.   3. ]\n",
      " [-0.5  0. ]\n",
      " [-6.5  5.5]]\n",
      "\n",
      "El resultado es:\n",
      " [[ 2. -5.]\n",
      " [-5.  0.]\n",
      " [ 5.  6.]]\n",
      "\n"
     ]
    }
   ],
   "source": [
    "\n",
    "import numpy as np\n",
    "\n",
    "A = np.array([[-2, -1],\n",
    "              [1, 0],\n",
    "              [3, -4]])\n",
    "\n",
    "B = np.array([[0, 3],\n",
    "              [2, 0],\n",
    "              [-4, -1]])\n",
    "\n",
    "\n",
    "# (a) X = 3A - 2B\n",
    "\n",
    "X = 3 * A - 2 * B\n",
    "\n",
    "print(f\"El resultado es:\\n {X}\\n\")\n",
    "\n",
    "# (b) 2X = 2A - B\n",
    "\n",
    "X = (2 * A - B) / 2\n",
    "\n",
    "print(f\"El resultado es:\\n {X}\\n\")\n",
    "\n",
    "# (c) 2X + 3A = B\n",
    "\n",
    "X = (B - 3 * A) / 2\n",
    "\n",
    "print(f\"El resultado es:\\n {X}\\n\")\n",
    "\n",
    "# (d) 2A + 4B = -2X\n",
    "\n",
    "X = - (2 * A + 4 * B) / 2\n",
    "\n",
    "print(f\"El resultado es:\\n {X}\\n\")\n"
   ]
  },
  {
   "cell_type": "markdown",
   "metadata": {},
   "source": [
    "## Operaciones con matrices Ejercicios desde el punto 15 hasta el 20 siempre que c = 2"
   ]
  },
  {
   "cell_type": "markdown",
   "metadata": {},
   "source": [
    "In Python, the `@` operator is used for matrix multiplication when working with numpy arrays. It performs a dot product operation between two matrices.\n",
    "\n",
    "In your code, `B @ (C @ A)` is performing matrix multiplication in the order specified by the parentheses, i.e., it first multiplies matrix `C` with matrix `A`, and then multiplies the result with matrix `B`.\n",
    "\n",
    "This is different from element-wise multiplication (`*`), which multiplies elements of the matrices at corresponding positions. The `@` operator is used when you want to perform actual matrix multiplication as defined in linear algebra."
   ]
  },
  {
   "cell_type": "code",
   "execution_count": 41,
   "metadata": {},
   "outputs": [
    {
     "name": "stdout",
     "output_type": "stream",
     "text": [
      "El resultado es: \n",
      " [[ -3  -5 -10]\n",
      " [ -2  -5  -5]]\n",
      "\n",
      "El resultado es: \n",
      " [[-2 -1]\n",
      " [ 3 -1]]\n",
      "\n",
      "El resultado es: \n",
      " [[ 1  6 -1]\n",
      " [-2 -2 -8]]\n",
      "\n",
      "El resultado es: \n",
      " [[-3  1]\n",
      " [-2 -1]]\n",
      "\n",
      "El resultado es: \n",
      " [[-12   4]\n",
      " [ -8  -4]]\n",
      "\n",
      "El resultado es: \n",
      " [[  2  10   0]\n",
      " [ -2   0 -10]]\n",
      "\n"
     ]
    }
   ],
   "source": [
    "\n",
    "import numpy as np\n",
    "\n",
    "A = np.array([[1, 2, 3],\n",
    "              [0, 1, -1]])\n",
    "\n",
    "B = np.array([[1, 3],\n",
    "              [-1, 2]])\n",
    "\n",
    "C = np.array([[0, 1],\n",
    "              [-1, 0]])\n",
    "\n",
    "c = 2\n",
    "\n",
    "# Ejercicio 15, B(C * A)\n",
    "\n",
    "arreglo_result = B @ (C @ A)\n",
    "\n",
    "print(f\"El resultado es: \\n {arreglo_result}\\n\")\n",
    "\n",
    "# Ejercicio 16, C(B * C)\n",
    "\n",
    "arreglo_result = C @ (B @ C)\n",
    "\n",
    "print(f\"El resultado es: \\n {arreglo_result}\\n\")\n",
    "\n",
    "# Ejercicio 17, (B + C)A\n",
    "\n",
    "arreglo_result = (B + C) @ A\n",
    "\n",
    "print(f\"El resultado es: \\n {arreglo_result}\\n\")\n",
    "\n",
    "# Ejercicio 18, B(C + 0)\n",
    "\n",
    "arreglo_result = B @ (C + 0)\n",
    "\n",
    "print(f\"El resultado es: \\n {arreglo_result}\\n\")\n",
    "\n",
    "#Ejercicio 19, (cB)(C + C)\n",
    "\n",
    "arreglo_result = (c * B) @ (C + C)\n",
    "\n",
    "print(f\"El resultado es: \\n {arreglo_result}\\n\")\n",
    "\n",
    "#Ejercicio 20, B(cA)\n",
    "\n",
    "arreglo_result = B @ (c * A)\n",
    "\n",
    "print(f\"El resultado es: \\n {arreglo_result}\\n\")\n",
    "\n",
    "\n"
   ]
  },
  {
   "cell_type": "markdown",
   "metadata": {},
   "source": [
    "## Asociatividad de la multiplicación de matrices Ejercicios 21 y 22"
   ]
  },
  {
   "cell_type": "code",
   "execution_count": 50,
   "metadata": {},
   "outputs": [
    {
     "name": "stdout",
     "output_type": "stream",
     "text": [
      "Se obtiene el mismo resultado en ambos casos\n",
      "\n",
      "Resultados del punto 22\n",
      "\n",
      "El resultado es: \n",
      " [[12  7]\n",
      " [24 15]]\n",
      "\n",
      "El resultado es: \n",
      " [[12  7]\n",
      " [24 15]]\n",
      "\n",
      "Resultados del punto 22\n",
      "\n",
      "El resultado es: \n",
      " [[ 18   0]\n",
      " [-12   5]]\n",
      "\n",
      "El resultado es: \n",
      " [[ 18   0]\n",
      " [-12   5]]\n",
      "\n"
     ]
    }
   ],
   "source": [
    "\n",
    "import numpy as np\n",
    "\n",
    "# Matrices para del punto 21\n",
    "\n",
    "A = np.array([[1, 2],\n",
    "              [3, 4]])\n",
    "\n",
    "B = np.array([[0, 1],\n",
    "              [2, 3]])\n",
    "\n",
    "C = np.array([[3, 0],\n",
    "              [0, 1]])\n",
    "\n",
    "print(\"Se obtiene el mismo resultado en ambos casos\\n\")\n",
    "\n",
    "\n",
    "print(\"Resultados del punto 22\\n\")\n",
    "\n",
    "# Ejercicio 21, primera agrupación (AB)C\n",
    "\n",
    "arreglo_result = (A @ B) @ C\n",
    "\n",
    "print(f\"El resultado es: \\n {arreglo_result}\\n\")\n",
    "\n",
    "# Ejercicio 21, segunda agrupación A(BC)\n",
    "\n",
    "arreglo_result = A @ (B @ C)\n",
    "\n",
    "print(f\"El resultado es: \\n {arreglo_result}\\n\")\n",
    "\n",
    "\n",
    "\n",
    "# Matrices para del punto 22\n",
    "\n",
    "A = np.array([[-4, 2],\n",
    "              [1, -3]])\n",
    "\n",
    "B = np.array([[1, -5, 0],\n",
    "              [-2, 3, 3]])\n",
    "\n",
    "C = np.array([[-3, 4],\n",
    "              [0, 1],\n",
    "              [-1, 1]])\t\n",
    "\n",
    "print(\"Resultados del punto 22\\n\")\n",
    "\n",
    "# Ejercicio 22, primera agrupación (AB)C\n",
    "\n",
    "arreglo_result = (A @ B) @ C\n",
    "\n",
    "print(f\"El resultado es: \\n {arreglo_result}\\n\")\n",
    "\n",
    "# Ejercicio 22, segunda agrupación A(BC)\n",
    "\n",
    "arreglo_result = A @ (B @ C)\n",
    "\n",
    "print(f\"El resultado es: \\n {arreglo_result}\\n\")\n"
   ]
  },
  {
   "cell_type": "markdown",
   "metadata": {},
   "source": [
    "## No conmutativa de multiplicación de matrices Ejercicios 23 y 24"
   ]
  },
  {
   "cell_type": "code",
   "execution_count": 54,
   "metadata": {},
   "outputs": [
    {
     "name": "stdout",
     "output_type": "stream",
     "text": [
      "Resultados del punto, como se puede ver no son iguales\n",
      "\n",
      "Resultados del punto 23\n",
      "\n",
      "El resultado de AB es: \n",
      " [[-9  2]\n",
      " [ 3 -6]]\n",
      "\n",
      "El resultado de BA es: \n",
      " [[-8  4]\n",
      " [ 2 -7]]\n",
      "\n",
      "Resultados del punto 24\n",
      "\n",
      "El resultado de AB es: \n",
      " [[0.375 0.25 ]\n",
      " [0.5   0.375]]\n",
      "\n",
      "El resultado de BA es: \n",
      " [[0.375 0.5  ]\n",
      " [0.25  0.375]]\n",
      "\n"
     ]
    }
   ],
   "source": [
    "from fractions import Fraction\n",
    "import numpy as np\n",
    "\n",
    "\n",
    "# Matrices para del punto 23\n",
    "\n",
    "A = np.array([[-2, 1],\n",
    "              [0, -3]])\n",
    "\n",
    "B = np.array([[4, 0],\n",
    "              [-1, 2]])\n",
    "\n",
    "# Mensaje Resultado\n",
    "\n",
    "print(\"Resultados del punto, como se puede ver no son iguales\\n\")\n",
    "\n",
    "print(\"Resultados del punto 23\\n\")\n",
    "\n",
    "# Ejercicio 23, primera agrupación AB\n",
    "\n",
    "arreglo_result = A @ B\n",
    "\n",
    "print(f\"El resultado de AB es: \\n {arreglo_result}\\n\")\n",
    "\n",
    "# Ejercicio 23, segunda agrupación BA\n",
    "\n",
    "arreglo_result = B @ A\n",
    "\n",
    "print(f\"El resultado de BA es: \\n {arreglo_result}\\n\")\n",
    "\n",
    "\n",
    "# Matrices para del punto 24\n",
    "\n",
    "A = np.array([[Fraction(1, 4), Fraction(1, 2)],\n",
    "              [Fraction(1, 2), Fraction(1, 2)]])\n",
    "\n",
    "\n",
    "B = np.array([[Fraction(1, 2), Fraction(1, 2)],\n",
    "              [Fraction(1, 2), Fraction(1, 4)]])\n",
    "\n",
    "print(\"Resultados del punto 24\\n\")\n",
    "\n",
    "# Ejercicios 24, primera agrupación AB\n",
    "\n",
    "arreglo_result = A @ B\n",
    "arreglo_result_convert = np.float64(arreglo_result)\n",
    "\n",
    "print(f\"El resultado de AB es: \\n {arreglo_result_convert}\\n\")\n",
    "\n",
    "# Ejercicios 24, segunda agrupación BA\n",
    "\n",
    "arreglo_result = B @ A\n",
    "arreglo_result_convert = np.float64(arreglo_result)\n",
    "\n",
    "print(f\"El resultado de BA es: \\n {arreglo_result_convert}\\n\")\n",
    "\n",
    "\n"
   ]
  },
  {
   "cell_type": "markdown",
   "metadata": {},
   "source": [
    "## Productos de matrices iguales Ejercicios 25 y 26"
   ]
  },
  {
   "cell_type": "code",
   "execution_count": 57,
   "metadata": {},
   "outputs": [
    {
     "name": "stdout",
     "output_type": "stream",
     "text": [
      "El resultado de BA es: \n",
      " [[3 3]\n",
      " [3 3]]\n",
      "\n",
      "El resultado de BC es: \n",
      " [[2 3]\n",
      " [2 3]]\n",
      "\n",
      "Como se puede ver los resultados son iguales incluso cuando A != B\n",
      "\n",
      "El resultado de BA es: \n",
      " [[12 -6  9]\n",
      " [16 -8 12]\n",
      " [ 4 -2  3]]\n",
      "\n",
      "El resultado de BC es: \n",
      " [[12 -6  9]\n",
      " [16 -8 12]\n",
      " [ 4 -2  3]]\n",
      "\n"
     ]
    }
   ],
   "source": [
    "\n",
    "import numpy as np\n",
    "\n",
    "\n",
    "# Matrices para del punto 25\n",
    "\n",
    "A = np.array([[0, 1],\n",
    "              [0, 1]])\n",
    "\n",
    "B = np.array([[1, 0],\n",
    "              [1, 0]])\n",
    "\n",
    "C = np.array([[2, 3],\n",
    "              [3, 3]])\n",
    "\n",
    "# Ejercicios 25, agrupaciones AC = BC\n",
    "\n",
    "arreglo_result = A @ C\n",
    "\n",
    "print(f\"El resultado de BA es: \\n {arreglo_result}\\n\")\n",
    "\n",
    "arreglo_result = B @ C\n",
    "\n",
    "print(f\"El resultado de BC es: \\n {arreglo_result}\\n\")\n",
    "\n",
    "print(\"Como se puede ver los resultados son iguales incluso cuando A != B\\n\")\n",
    "\n",
    "# Matrices para del punto 26\n",
    "\n",
    "A = np.array([[1, 2, 3],\n",
    "              [0, 5, 4],\n",
    "              [3, -2, 1]])\n",
    "\n",
    "B = np.array([[4, -6, 3],\n",
    "              [5, 4, 4],\n",
    "              [-1, 0, 1]])\n",
    "\n",
    "C = np.array([[0, 0, 0],\n",
    "              [0, 0, 0],\n",
    "              [4, -2, 3]])\n",
    "\n",
    "\n",
    "# Ejercicios 26, agrupaciones AC = BC\n",
    "\n",
    "arreglo_result = A @ C\n",
    "\n",
    "print(f\"El resultado de BA es: \\n {arreglo_result}\\n\")\n",
    "\n",
    "arreglo_result = B @ C\n",
    "\n",
    "print(f\"El resultado de BC es: \\n {arreglo_result}\\n\")\n"
   ]
  },
  {
   "cell_type": "markdown",
   "metadata": {},
   "source": [
    "## Producto de matriz cero Ejercicios 27 y 28"
   ]
  },
  {
   "cell_type": "code",
   "execution_count": 59,
   "metadata": {},
   "outputs": [
    {
     "name": "stdout",
     "output_type": "stream",
     "text": [
      "El resultado de AB es: \n",
      " [[0 0]\n",
      " [0 0]]\n",
      "\n",
      "El resultado de AB es: \n",
      " [[0. 0.]\n",
      " [0. 0.]]\n",
      "\n"
     ]
    }
   ],
   "source": [
    "\n",
    "import numpy as np\n",
    "\n",
    "\n",
    "# Matrices para del punto 27\n",
    "\n",
    "A = np.array([[3, 3],\n",
    "              [4, 4]])\n",
    "\n",
    "B = np.array([[1, -1],\n",
    "              [-1, 1]])\n",
    "\n",
    "# Ejercicios 27, agrupación AB = 0\n",
    "\n",
    "arreglo_result = A @ B\n",
    "\n",
    "print(f\"El resultado de AB es: \\n {arreglo_result}\\n\")\n",
    "\n",
    "\n",
    "# Matrices para del punto 28\n",
    "\n",
    "A = np.array([[2, 4],\n",
    "              [2, 4]])\n",
    "\n",
    "B = np.array([[1, -2],\n",
    "              [Fraction(-1, 2), 1]])\n",
    "\n",
    "\n",
    "# Ejercicios 27, agrupación AB = 0\n",
    "\n",
    "arreglo_result = A @ B\n",
    "arreglo_result_convert = np.float64(arreglo_result)\n",
    "\n",
    "print(f\"El resultado de AB es: \\n {arreglo_result_convert}\\n\")"
   ]
  }
 ],
 "metadata": {
  "kernelspec": {
   "display_name": "Python 3",
   "language": "python",
   "name": "python3"
  },
  "language_info": {
   "codemirror_mode": {
    "name": "ipython",
    "version": 3
   },
   "file_extension": ".py",
   "mimetype": "text/x-python",
   "name": "python",
   "nbconvert_exporter": "python",
   "pygments_lexer": "ipython3",
   "version": "3.10.12"
  }
 },
 "nbformat": 4,
 "nbformat_minor": 2
}
