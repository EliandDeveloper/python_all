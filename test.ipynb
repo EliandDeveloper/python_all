{
 "cells": [
  {
   "cell_type": "code",
   "execution_count": 4,
   "metadata": {},
   "outputs": [
    {
     "name": "stdout",
     "output_type": "stream",
     "text": [
      "2016 Audi A4\n"
     ]
    }
   ],
   "source": [
    "#create a class called \"Car\" with the following attributes:\n",
    "#-make\n",
    "#-model\n",
    "#-year\n",
    "#-odometer_reading\n",
    "#-fuel_capacity\n",
    "\n",
    "class Car:\n",
    "    def __init__(self, make, model, year, odometer_reading, fuel_capacity):\n",
    "        self.make = make\n",
    "        self.model = model\n",
    "        self.year = year\n",
    "        self.odometer_reading = odometer_reading\n",
    "        self.fuel_capacity = fuel_capacity\n",
    "\n",
    "    def get_descriptive_name(self):\n",
    "        long_name = str(self.year) + \" \" + self.make + \" \" + self.model\n",
    "        return long_name.title()\n",
    "\n",
    "    def read_odometer(self):\n",
    "        print(\"This car has \" + str(self.odometer_reading) + \" miles on it.\")\n",
    "\n",
    "    def fill_gas_tank(self):\n",
    "        print(\"This car has a \" + str(self.fuel_capacity) + \" gallon gas tank.\")\n",
    "\n",
    "\n",
    "my_new_car = Car('audi', 'a4', 2016, 23, 15)\n",
    "print(my_new_car.get_descriptive_name())\n",
    "\n",
    "\n"
   ]
  }
 ],
 "metadata": {
  "kernelspec": {
   "display_name": "Python 3",
   "language": "python",
   "name": "python3"
  },
  "language_info": {
   "codemirror_mode": {
    "name": "ipython",
    "version": 3
   },
   "file_extension": ".py",
   "mimetype": "text/x-python",
   "name": "python",
   "nbconvert_exporter": "python",
   "pygments_lexer": "ipython3",
   "version": "3.10.12"
  }
 },
 "nbformat": 4,
 "nbformat_minor": 2
}
